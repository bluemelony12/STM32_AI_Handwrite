{
 "cells": [
  {
   "cell_type": "code",
   "execution_count": 2,
   "metadata": {},
   "outputs": [],
   "source": [
    "import tensorflow as tf\n",
    "from tensorflow import keras\n",
    "from sklearn.model_selection import train_test_split\n",
    "import numpy as np\n",
    "import matplotlib.pyplot as plt"
   ]
  },
  {
   "cell_type": "code",
   "execution_count": 71,
   "metadata": {},
   "outputs": [],
   "source": [
    "(train_input, train_target), (test_input, test_target) = keras.datasets.mnist.load_data()"
   ]
  },
  {
   "cell_type": "code",
   "execution_count": 72,
   "metadata": {},
   "outputs": [
    {
     "name": "stdout",
     "output_type": "stream",
     "text": [
      "(60000, 28, 28)\n",
      "(60000,)\n",
      "(10000, 28, 28)\n",
      "(10000,)\n"
     ]
    }
   ],
   "source": [
    "print(train_input.shape)\n",
    "print(train_target.shape)\n",
    "print(test_input.shape)\n",
    "print(test_target.shape)"
   ]
  },
  {
   "cell_type": "code",
   "execution_count": 73,
   "metadata": {},
   "outputs": [],
   "source": [
    "\n",
    "train_scaled = train_input.reshape(-1, 28, 28, 1).astype('float32') / 255.0\n",
    "test_scaled = test_input.reshape(-1, 28, 28, 1).astype('float32') / 255.0\n",
    "train_scaled, val_scaled, train_target, val_target = train_test_split(train_scaled, train_target, test_size=0.2)"
   ]
  },
  {
   "cell_type": "code",
   "execution_count": 74,
   "metadata": {},
   "outputs": [
    {
     "name": "stdout",
     "output_type": "stream",
     "text": [
      "(48000, 28, 28, 1)\n",
      "(12000, 28, 28, 1)\n"
     ]
    }
   ],
   "source": [
    "print(train_scaled.shape)\n",
    "print(val_scaled.shape)"
   ]
  },
  {
   "cell_type": "code",
   "execution_count": 75,
   "metadata": {},
   "outputs": [
    {
     "name": "stdout",
     "output_type": "stream",
     "text": [
      "Model: \"sequential_5\"\n",
      "_________________________________________________________________\n",
      " Layer (type)                Output Shape              Param #   \n",
      "=================================================================\n",
      " conv2d_10 (Conv2D)          (None, 28, 28, 32)        320       \n",
      "                                                                 \n",
      " max_pooling2d_10 (MaxPoolin  (None, 14, 14, 32)       0         \n",
      " g2D)                                                            \n",
      "                                                                 \n",
      " conv2d_11 (Conv2D)          (None, 14, 14, 64)        18496     \n",
      "                                                                 \n",
      " max_pooling2d_11 (MaxPoolin  (None, 7, 7, 64)         0         \n",
      " g2D)                                                            \n",
      "                                                                 \n",
      " flatten_5 (Flatten)         (None, 3136)              0         \n",
      "                                                                 \n",
      " dense_12 (Dense)            (None, 100)               313700    \n",
      "                                                                 \n",
      " dropout_7 (Dropout)         (None, 100)               0         \n",
      "                                                                 \n",
      " dense_13 (Dense)            (None, 10)                1010      \n",
      "                                                                 \n",
      "=================================================================\n",
      "Total params: 333,526\n",
      "Trainable params: 333,526\n",
      "Non-trainable params: 0\n",
      "_________________________________________________________________\n"
     ]
    }
   ],
   "source": [
    "model = keras.Sequential()\n",
    "model.add(keras.layers.Conv2D(32, kernel_size=3, activation='relu', padding='same', input_shape=(28,28,1)))\n",
    "model.add(keras.layers.MaxPool2D(2))\n",
    "model.add(keras.layers.Conv2D(64, kernel_size=3, activation='relu', padding='same'))\n",
    "model.add(keras.layers.MaxPool2D(2))\n",
    "\n",
    "model.add(keras.layers.Flatten())\n",
    "model.add(keras.layers.Dense(100, activation='relu'))\n",
    "model.add(keras.layers.Dropout(0.2))\n",
    "model.add(keras.layers.Dense(10, activation='softmax'))\n",
    "model.summary()"
   ]
  },
  {
   "cell_type": "code",
   "execution_count": 76,
   "metadata": {},
   "outputs": [
    {
     "name": "stdout",
     "output_type": "stream",
     "text": [
      "Epoch 1/10\n",
      "1500/1500 [==============================] - 48s 31ms/step - loss: 0.1686 - accuracy: 0.9473 - val_loss: 0.0586 - val_accuracy: 0.9812\n",
      "Epoch 2/10\n",
      "1500/1500 [==============================] - 50s 33ms/step - loss: 0.0557 - accuracy: 0.9831 - val_loss: 0.0432 - val_accuracy: 0.9879\n",
      "Epoch 3/10\n",
      "1500/1500 [==============================] - 48s 32ms/step - loss: 0.0384 - accuracy: 0.9881 - val_loss: 0.0387 - val_accuracy: 0.9887\n",
      "Epoch 4/10\n",
      "1500/1500 [==============================] - 49s 33ms/step - loss: 0.0296 - accuracy: 0.9904 - val_loss: 0.0383 - val_accuracy: 0.9887\n",
      "Epoch 5/10\n",
      "1500/1500 [==============================] - 45s 30ms/step - loss: 0.0233 - accuracy: 0.9924 - val_loss: 0.0405 - val_accuracy: 0.9887\n",
      "Epoch 6/10\n",
      "1500/1500 [==============================] - 46s 31ms/step - loss: 0.0190 - accuracy: 0.9940 - val_loss: 0.0340 - val_accuracy: 0.9904\n",
      "Epoch 7/10\n",
      "1500/1500 [==============================] - 46s 31ms/step - loss: 0.0165 - accuracy: 0.9947 - val_loss: 0.0420 - val_accuracy: 0.9877\n",
      "Epoch 8/10\n",
      "1500/1500 [==============================] - 46s 31ms/step - loss: 0.0145 - accuracy: 0.9954 - val_loss: 0.0417 - val_accuracy: 0.9893\n",
      "Epoch 9/10\n",
      "1500/1500 [==============================] - 47s 31ms/step - loss: 0.0115 - accuracy: 0.9961 - val_loss: 0.0443 - val_accuracy: 0.9874\n"
     ]
    }
   ],
   "source": [
    "model.compile(optimizer='adam', loss='sparse_categorical_crossentropy', metrics='accuracy')\n",
    "\n",
    "checkpoint_cb = keras.callbacks.ModelCheckpoint('best-HandWriteNumber.h5', save_best_only=True)\n",
    "early_stopping_cb = keras.callbacks.EarlyStopping(patience=3, restore_best_weights=True)\n",
    "\n",
    "histroy = model.fit(train_scaled, train_target, epochs=10, validation_data=(val_scaled, val_target), callbacks=[checkpoint_cb, early_stopping_cb],\n",
    "                    batch_size=32)"
   ]
  },
  {
   "cell_type": "code",
   "execution_count": 80,
   "metadata": {},
   "outputs": [
    {
     "data": {
      "image/png": "[encoded data removed]",
      "text/plain": [
       "<Figure size 640x480 with 1 Axes>"
      ]
     },
     "metadata": {},
     "output_type": "display_data"
    }
   ],
   "source": [
    "plt.plot(histroy.history['loss'], label=\"loss\")\n",
    "plt.plot(histroy.history['val_loss'],label=\"val_loss\")\n",
    "plt.xlabel('epoch')\n",
    "plt.ylabel('loss')\n",
    "plt.legend()\n",
    "plt.show()"
   ]
  },
  {
   "cell_type": "code",
   "execution_count": 81,
   "metadata": {},
   "outputs": [
    {
     "name": "stdout",
     "output_type": "stream",
     "text": [
      "313/313 [==============================] - 5s 15ms/step - loss: 0.0252 - accuracy: 0.9916\n"
     ]
    },
    {
     "data": {
      "text/plain": [
       "[0.02518135868012905, 0.991599977016449]"
      ]
     },
     "execution_count": 81,
     "metadata": {},
     "output_type": "execute_result"
    }
   ],
   "source": [
    "model.evaluate(test_scaled, test_target)"
   ]
  },
  {
   "cell_type": "code",
   "execution_count": 88,
   "metadata": {},
   "outputs": [
    {
     "name": "stdout",
     "output_type": "stream",
     "text": [
      "313/313 [==============================] - 3s 9ms/step\n",
      "[6.4876639e-11 1.2335640e-09 1.2269872e-08 1.0029594e-08 2.5455549e-10\n",
      " 4.6461984e-08 6.7139021e-17 9.9999887e-01 6.7992861e-11 1.0862370e-06]\n",
      "7\n"
     ]
    }
   ],
   "source": [
    "predic = model.predict(test_scaled)\n",
    "print(predic[0,:])\n",
    "print(test_target[0])"
   ]
  },
  {
   "cell_type": "code",
   "execution_count": 4,
   "metadata": {},
   "outputs": [
    {
     "name": "stderr",
     "output_type": "stream",
     "text": [
      "WARNING:absl:Optimization option OPTIMIZE_FOR_SIZE is deprecated, please use optimizations=[Optimize.DEFAULT] instead.\n",
      "WARNING:absl:Found untraced functions such as _jit_compiled_convolution_op, _jit_compiled_convolution_op while saving (showing 2 of 2). These functions will not be directly callable after loading.\n"
     ]
    },
    {
     "name": "stdout",
     "output_type": "stream",
     "text": [
      "INFO:tensorflow:Assets written to: C:\\Users\\LeeJH\\AppData\\Local\\Temp\\tmp5rn1k8vo\\assets\n"
     ]
    },
    {
     "name": "stderr",
     "output_type": "stream",
     "text": [
      "INFO:tensorflow:Assets written to: C:\\Users\\LeeJH\\AppData\\Local\\Temp\\tmp5rn1k8vo\\assets\n",
      "WARNING:absl:Optimization option OPTIMIZE_FOR_SIZE is deprecated, please use optimizations=[Optimize.DEFAULT] instead.\n",
      "WARNING:absl:Optimization option OPTIMIZE_FOR_SIZE is deprecated, please use optimizations=[Optimize.DEFAULT] instead.\n"
     ]
    },
    {
     "data": {
      "text/plain": [
       "342376"
      ]
     },
     "execution_count": 4,
     "metadata": {},
     "output_type": "execute_result"
    }
   ],
   "source": [
    "model = keras.models.load_model('best-HandWriteNumber.h5')\n",
    "\n",
    "converter = tf.lite.TFLiteConverter.from_keras_model(model)\n",
    "converter.optimizations = [tf.lite.Optimize.DEFAULT]\n",
    "tflite_model = converter.convert()\n",
    "\n",
    "open('HandWriteNumber' + '.tflite', 'wb').write(tflite_model)"
   ]
  },
  {
   "cell_type": "code",
   "execution_count": null,
   "metadata": {},
   "outputs": [],
   "source": []
  }
 ],
 "metadata": {
  "kernelspec": {
   "display_name": "tf",
   "language": "python",
   "name": "python3"
  },
  "language_info": {
   "codemirror_mode": {
    "name": "ipython",
    "version": 3
   },
   "file_extension": ".py",
   "mimetype": "text/x-python",
   "name": "python",
   "nbconvert_exporter": "python",
   "pygments_lexer": "ipython3",
   "version": "3.10.13"
  }
 },
 "nbformat": 4,
 "nbformat_minor": 2
}
